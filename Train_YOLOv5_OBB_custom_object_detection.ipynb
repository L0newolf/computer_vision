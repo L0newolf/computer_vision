{
  "cells": [
    {
      "cell_type": "code",
      "execution_count": null,
      "metadata": {
        "colab": {
          "base_uri": "https://localhost:8080/"
        },
        "id": "1NZxhXTMWvek",
        "outputId": "401f4df9-dfaa-49bd-acd1-fa96a0050c40"
      },
      "outputs": [],
      "source": [
        "!pip3 install torch==1.10.1+cu113 torchvision==0.11.2+cu113 torchaudio==0.10.1+cu113 -f https://download.pytorch.org/whl/cu113/torch_stable.html\n",
        "!nvcc -V\n",
        "!python"
      ]
    },
    {
      "cell_type": "code",
      "execution_count": null,
      "metadata": {
        "id": "9cWpOA-iLBdJ"
      },
      "outputs": [],
      "source": [
        "!git clone https://github.com/hukaixuan19970627/yolov5_obb.git"
      ]
    },
    {
      "cell_type": "code",
      "execution_count": null,
      "metadata": {
        "colab": {
          "base_uri": "https://localhost:8080/"
        },
        "id": "XrMDF3vubJlt",
        "outputId": "dc6e00cd-3586-4582-cb85-bce9d0755277"
      },
      "outputs": [],
      "source": [
        "%cd /content/yolov5_obb/\n",
        "!pip install -r requirements.txt"
      ]
    },
    {
      "cell_type": "code",
      "execution_count": null,
      "metadata": {
        "colab": {
          "base_uri": "https://localhost:8080/"
        },
        "id": "11G939jgNaVK",
        "outputId": "c4ab354e-14ed-4bf6-b406-0cda940cd280"
      },
      "outputs": [],
      "source": [
        "%cd utils/nms_rotated\n",
        "!python setup.py develop  #or \"pip install -v -e .\""
      ]
    },
    {
      "cell_type": "code",
      "execution_count": null,
      "metadata": {
        "colab": {
          "base_uri": "https://localhost:8080/"
        },
        "id": "49QzmYLIMK4r",
        "outputId": "3e132221-6061-4c9e-c55f-3684e9dbec9c"
      },
      "outputs": [
        {
          "name": "stdout",
          "output_type": "stream",
          "text": [
            "/content\n"
          ]
        }
      ],
      "source": [
        "%cd /content\n",
        "!mkdir /content/datasets/"
      ]
    },
    {
      "cell_type": "code",
      "execution_count": null,
      "metadata": {
        "colab": {
          "base_uri": "https://localhost:8080/"
        },
        "id": "jXOF90MZeC11",
        "outputId": "04243744-2829-462e-df93-b017bdfc4b45"
      },
      "outputs": [],
      "source": [
        "%cd /content/yolov5_obb/\n",
        "!python train.py --data /content/datasets/roboflow/data.yaml --epochs 10 --batch-size 1 --img 1024 --device 0 --exist-ok\n"
      ]
    },
    {
      "cell_type": "code",
      "execution_count": null,
      "metadata": {
        "colab": {
          "base_uri": "https://localhost:8080/"
        },
        "id": "C8xmu3Fy8qSc",
        "outputId": "834b37ec-cfb6-41e1-9957-8175b0aa4e1a"
      },
      "outputs": [
        {
          "name": "stdout",
          "output_type": "stream",
          "text": [
            "/content/yolov5_obb\n"
          ]
        }
      ],
      "source": [
        "%cd /content/yolov5_obb/"
      ]
    },
    {
      "cell_type": "code",
      "execution_count": null,
      "metadata": {
        "colab": {
          "base_uri": "https://localhost:8080/"
        },
        "id": "8yBGxIBJbL1W",
        "outputId": "13ca4dae-89cf-4593-bddb-8c6f33a1ad28"
      },
      "outputs": [],
      "source": [
        "!python detect.py --weights 'runs/train/exp/weights/best.pt' --source '../datasets/roboflow/valid/images' --conf-thres 0.01 --img 416 --device 0 --agnostic"
      ]
    },
    {
      "cell_type": "code",
      "execution_count": null,
      "metadata": {
        "colab": {
          "base_uri": "https://localhost:8080/"
        },
        "id": "D782nBcaL5er",
        "outputId": "bd290169-eee7-4eba-a191-6b07fc9355e3"
      },
      "outputs": [
        {
          "name": "stdout",
          "output_type": "stream",
          "text": [
            "/content/yolov5_obb/runs/detect/exp\n"
          ]
        }
      ],
      "source": [
        "%cd /content/yolov5_obb/runs/detect/exp/"
      ]
    },
    {
      "cell_type": "code",
      "execution_count": null,
      "metadata": {
        "colab": {
          "base_uri": "https://localhost:8080/",
          "height": 433
        },
        "id": "K6RlZpzxb_kE",
        "outputId": "d7aa06b2-464d-46b3-87e5-fc2ca6f4c44b"
      },
      "outputs": [],
      "source": [
        "import os, random\n",
        "random_file = random.choice(os.listdir(\"/content/yolov5_obb/runs/detect/exp\"))\n",
        "\n",
        "from IPython.display import Image\n",
        "Image(random_file)"
      ]
    }
  ],
  "metadata": {
    "accelerator": "GPU",
    "colab": {
      "provenance": []
    },
    "kernelspec": {
      "display_name": "Python 3",
      "name": "python3"
    },
    "language_info": {
      "name": "python"
    }
  },
  "nbformat": 4,
  "nbformat_minor": 0
}
