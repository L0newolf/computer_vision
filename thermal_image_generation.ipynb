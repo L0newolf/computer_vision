{
 "cells": [
  {
   "cell_type": "markdown",
   "metadata": {},
   "source": [
    "* Generate thermal images from raw temperature data"
   ]
  },
  {
   "cell_type": "code",
   "execution_count": 1,
   "metadata": {},
   "outputs": [],
   "source": [
    "import os\n",
    "import glob\n",
    "import numpy as np\n",
    "import cv2"
   ]
  },
  {
   "cell_type": "markdown",
   "metadata": {},
   "source": [
    "Class to generate a thermal image from raw temperature data as float numbers in a 1D array"
   ]
  },
  {
   "cell_type": "code",
   "execution_count": null,
   "metadata": {},
   "outputs": [],
   "source": [
    "class thermal_img_gen(object):\n",
    "\n",
    "    def __init__(self):\n",
    "        pass\n",
    "    \n",
    "    def linear_AGC(self,temp_data):\n",
    "\n",
    "        min_temp = np.min(temp_data)\n",
    "        max_temp = np.max(temp_data)\n",
    "        img_data = np.zeros(len(temp_data))\n",
    "        for i in range(len(temp_data)):\n",
    "            img_data[i] = int(( ( 255 * ( temp_data[i] - min_temp) ) ) / (max_temp-min_temp))\n",
    "        img_data = np.asarray(img_data,dtype=np.uint8)\n",
    "\n",
    "        return img_data\n",
    "\n",
    "    def apply_image_proc(self,image_data):\n",
    "        clahe = cv2.createCLAHE(clipLimit=6.0, tileGridSize=(8,8))\n",
    "        image_data_numpy_8u_2d = np.asarray((image_data)*255,dtype=np.uint8)\n",
    "        \n",
    "        image_data_numpy_8u_2d = cv2.medianBlur(image_data_numpy_8u_2d, 3)\n",
    "        alpha = 1.0 # Contrast control\n",
    "        beta = 5 # Brightness control\n",
    "        image_data_numpy_8u_2d = cv2.convertScaleAbs(image_data_numpy_8u_2d, alpha=alpha, beta=beta)\n",
    "        image_data_numpy_8u_2d = clahe.apply(image_data_numpy_8u_2d)\n",
    "        image_data_numpy_8u_2d = cv2.fastNlMeansDenoising( image_data_numpy_8u_2d, None, 7, 7, 13 )  \n",
    "        \n",
    "        # apply binary thresholding\n",
    "        ret, thresh = cv2.threshold(image_data_numpy_8u_2d, 150, 255, cv2.THRESH_BINARY)\n",
    "        # detect the contours on the binary image using cv2.CHAIN_APPROX_NONE\n",
    "        contours, hierarchy = cv2.findContours(image=thresh, mode=cv2.RETR_TREE, method=cv2.CHAIN_APPROX_NONE)                            \n",
    "        # draw contours on the original image\n",
    "        image_data_numpy_8u_2d = cv2.applyColorMap(image_data_numpy_8u_2d, cv2.COLORMAP_JET)\n",
    "        cv2.drawContours(image=image_data_numpy_8u_2d, contours=contours, contourIdx=-1, color=(255, 255, 255), \n",
    "                         thickness=2, lineType=cv2.LINE_AA)\n",
    "        return image_data_numpy_8u_2d\n",
    "\n",
    "    def create_thermal_image_from_temperature_data(self,temp_data):\n",
    "        \n",
    "        temp_data = np.asarray(temp_data)\n",
    "        img_data = temp_data/np.max(temp_data)\n",
    "        img_data = np.power(img_data,4)\n",
    "        img_data = self.linear_AGC(temp_data)\n",
    "        img_data = img_data.reshape(288,384)\n",
    "        img_data = self.apply_image_proc(img_data)\n",
    "        return img_data"
   ]
  }
 ],
 "metadata": {
  "kernelspec": {
   "display_name": "yolov8",
   "language": "python",
   "name": "python3"
  },
  "language_info": {
   "codemirror_mode": {
    "name": "ipython",
    "version": 3
   },
   "file_extension": ".py",
   "mimetype": "text/x-python",
   "name": "python",
   "nbconvert_exporter": "python",
   "pygments_lexer": "ipython3",
   "version": "3.7.16"
  }
 },
 "nbformat": 4,
 "nbformat_minor": 2
}
